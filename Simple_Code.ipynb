{
 "cells": [
  {
   "cell_type": "code",
   "execution_count": 1,
   "metadata": {
    "collapsed": true
   },
   "outputs": [],
   "source": [
    "import pandas as pd \n",
    "import numpy as np \n",
    "from sklearn import preprocessing\n",
    "import matplotlib.pyplot as plt\n"
   ]
  },
  {
   "cell_type": "code",
   "execution_count": 2,
   "metadata": {},
   "outputs": [],
   "source": [
    "path =\"Dataset/\"\n",
    "train_Data = pd.read_csv(path + \"training_data.csv\", header=None)"
   ]
  },
  {
   "cell_type": "code",
   "execution_count": 3,
   "metadata": {},
   "outputs": [
    {
     "data": {
      "text/plain": [
       "(1511, 4)"
      ]
     },
     "execution_count": 3,
     "metadata": {},
     "output_type": "execute_result"
    }
   ],
   "source": [
    "train_Data.shape\n"
   ]
  },
  {
   "cell_type": "code",
   "execution_count": 4,
   "metadata": {
    "collapsed": true
   },
   "outputs": [],
   "source": [
    "train_Data.columns = ['open','high','low','close']"
   ]
  },
  {
   "cell_type": "code",
   "execution_count": 5,
   "metadata": {},
   "outputs": [
    {
     "data": {
      "text/html": [
       "<div>\n",
       "<style>\n",
       "    .dataframe thead tr:only-child th {\n",
       "        text-align: right;\n",
       "    }\n",
       "\n",
       "    .dataframe thead th {\n",
       "        text-align: left;\n",
       "    }\n",
       "\n",
       "    .dataframe tbody tr th {\n",
       "        vertical-align: top;\n",
       "    }\n",
       "</style>\n",
       "<table border=\"1\" class=\"dataframe\">\n",
       "  <thead>\n",
       "    <tr style=\"text-align: right;\">\n",
       "      <th></th>\n",
       "      <th>open</th>\n",
       "      <th>high</th>\n",
       "      <th>low</th>\n",
       "      <th>close</th>\n",
       "    </tr>\n",
       "  </thead>\n",
       "  <tbody>\n",
       "    <tr>\n",
       "      <th>0</th>\n",
       "      <td>209.894836</td>\n",
       "      <td>216.427353</td>\n",
       "      <td>207.758728</td>\n",
       "      <td>216.208771</td>\n",
       "    </tr>\n",
       "    <tr>\n",
       "      <th>1</th>\n",
       "      <td>220.515762</td>\n",
       "      <td>223.029404</td>\n",
       "      <td>218.454163</td>\n",
       "      <td>221.181427</td>\n",
       "    </tr>\n",
       "    <tr>\n",
       "      <th>2</th>\n",
       "      <td>221.558975</td>\n",
       "      <td>224.316040</td>\n",
       "      <td>219.323517</td>\n",
       "      <td>224.162048</td>\n",
       "    </tr>\n",
       "    <tr>\n",
       "      <th>3</th>\n",
       "      <td>226.958847</td>\n",
       "      <td>233.729813</td>\n",
       "      <td>225.155579</td>\n",
       "      <td>231.325455</td>\n",
       "    </tr>\n",
       "    <tr>\n",
       "      <th>4</th>\n",
       "      <td>231.698029</td>\n",
       "      <td>235.170441</td>\n",
       "      <td>228.980698</td>\n",
       "      <td>231.941452</td>\n",
       "    </tr>\n",
       "  </tbody>\n",
       "</table>\n",
       "</div>"
      ],
      "text/plain": [
       "         open        high         low       close\n",
       "0  209.894836  216.427353  207.758728  216.208771\n",
       "1  220.515762  223.029404  218.454163  221.181427\n",
       "2  221.558975  224.316040  219.323517  224.162048\n",
       "3  226.958847  233.729813  225.155579  231.325455\n",
       "4  231.698029  235.170441  228.980698  231.941452"
      ]
     },
     "execution_count": 5,
     "metadata": {},
     "output_type": "execute_result"
    }
   ],
   "source": [
    "train_Data.head()"
   ]
  },
  {
   "cell_type": "code",
   "execution_count": 6,
   "metadata": {
    "collapsed": true
   },
   "outputs": [],
   "source": [
    "# diff = [0]\n",
    "# prev_close = 216.208771\n",
    "# for index, row in train_Data.iterrows():\n",
    "#     if index ==0:\n",
    "#         continue\n",
    "#     diff.append(row['open']-prev_close)\n",
    "#     prev_close = row['close']\n",
    "    "
   ]
  },
  {
   "cell_type": "code",
   "execution_count": 7,
   "metadata": {},
   "outputs": [
    {
     "data": {
      "text/html": [
       "<div>\n",
       "<style>\n",
       "    .dataframe thead tr:only-child th {\n",
       "        text-align: right;\n",
       "    }\n",
       "\n",
       "    .dataframe thead th {\n",
       "        text-align: left;\n",
       "    }\n",
       "\n",
       "    .dataframe tbody tr th {\n",
       "        vertical-align: top;\n",
       "    }\n",
       "</style>\n",
       "<table border=\"1\" class=\"dataframe\">\n",
       "  <thead>\n",
       "    <tr style=\"text-align: right;\">\n",
       "      <th></th>\n",
       "      <th>open</th>\n",
       "      <th>high</th>\n",
       "      <th>low</th>\n",
       "      <th>close</th>\n",
       "    </tr>\n",
       "  </thead>\n",
       "  <tbody>\n",
       "    <tr>\n",
       "      <th>0</th>\n",
       "      <td>0.334315</td>\n",
       "      <td>0.348003</td>\n",
       "      <td>0.357798</td>\n",
       "      <td>0.367069</td>\n",
       "    </tr>\n",
       "    <tr>\n",
       "      <th>1</th>\n",
       "      <td>0.378985</td>\n",
       "      <td>0.375813</td>\n",
       "      <td>0.402868</td>\n",
       "      <td>0.387736</td>\n",
       "    </tr>\n",
       "    <tr>\n",
       "      <th>2</th>\n",
       "      <td>0.383373</td>\n",
       "      <td>0.381233</td>\n",
       "      <td>0.406531</td>\n",
       "      <td>0.400124</td>\n",
       "    </tr>\n",
       "    <tr>\n",
       "      <th>3</th>\n",
       "      <td>0.406084</td>\n",
       "      <td>0.420889</td>\n",
       "      <td>0.431107</td>\n",
       "      <td>0.429896</td>\n",
       "    </tr>\n",
       "    <tr>\n",
       "      <th>4</th>\n",
       "      <td>0.426016</td>\n",
       "      <td>0.426957</td>\n",
       "      <td>0.447226</td>\n",
       "      <td>0.432456</td>\n",
       "    </tr>\n",
       "  </tbody>\n",
       "</table>\n",
       "</div>"
      ],
      "text/plain": [
       "       open      high       low     close\n",
       "0  0.334315  0.348003  0.357798  0.367069\n",
       "1  0.378985  0.375813  0.402868  0.387736\n",
       "2  0.383373  0.381233  0.406531  0.400124\n",
       "3  0.406084  0.420889  0.431107  0.429896\n",
       "4  0.426016  0.426957  0.447226  0.432456"
      ]
     },
     "execution_count": 7,
     "metadata": {},
     "output_type": "execute_result"
    }
   ],
   "source": [
    "# Normalize the data -> Maybe useful?\n",
    "def normalize_data(df):\n",
    "    min_max_scaler = preprocessing.MinMaxScaler()\n",
    "    df['open'] = min_max_scaler.fit_transform(df.open.values.reshape(-1,1))\n",
    "    df['high'] = min_max_scaler.fit_transform(df.high.values.reshape(-1,1))\n",
    "    df['low'] = min_max_scaler.fit_transform(df.low.values.reshape(-1,1))\n",
    "    df['close'] = min_max_scaler.fit_transform(df.close.values.reshape(-1,1))\n",
    "    return df\n",
    "new_train_Data = normalize_data(train_Data)\n",
    "new_train_Data.head()"
   ]
  },
  {
   "cell_type": "code",
   "execution_count": 8,
   "metadata": {},
   "outputs": [
    {
     "data": {
      "text/html": [
       "<div>\n",
       "<style>\n",
       "    .dataframe thead tr:only-child th {\n",
       "        text-align: right;\n",
       "    }\n",
       "\n",
       "    .dataframe thead th {\n",
       "        text-align: left;\n",
       "    }\n",
       "\n",
       "    .dataframe tbody tr th {\n",
       "        vertical-align: top;\n",
       "    }\n",
       "</style>\n",
       "<table border=\"1\" class=\"dataframe\">\n",
       "  <thead>\n",
       "    <tr style=\"text-align: right;\">\n",
       "      <th></th>\n",
       "      <th>open</th>\n",
       "      <th>high</th>\n",
       "      <th>low</th>\n",
       "      <th>close</th>\n",
       "    </tr>\n",
       "  </thead>\n",
       "  <tbody>\n",
       "    <tr>\n",
       "      <th>0</th>\n",
       "      <td>0.334315</td>\n",
       "      <td>0.348003</td>\n",
       "      <td>0.357798</td>\n",
       "      <td>0.367069</td>\n",
       "    </tr>\n",
       "    <tr>\n",
       "      <th>1</th>\n",
       "      <td>0.378985</td>\n",
       "      <td>0.375813</td>\n",
       "      <td>0.402868</td>\n",
       "      <td>0.387736</td>\n",
       "    </tr>\n",
       "    <tr>\n",
       "      <th>2</th>\n",
       "      <td>0.383373</td>\n",
       "      <td>0.381233</td>\n",
       "      <td>0.406531</td>\n",
       "      <td>0.400124</td>\n",
       "    </tr>\n",
       "    <tr>\n",
       "      <th>3</th>\n",
       "      <td>0.406084</td>\n",
       "      <td>0.420889</td>\n",
       "      <td>0.431107</td>\n",
       "      <td>0.429896</td>\n",
       "    </tr>\n",
       "    <tr>\n",
       "      <th>4</th>\n",
       "      <td>0.426016</td>\n",
       "      <td>0.426957</td>\n",
       "      <td>0.447226</td>\n",
       "      <td>0.432456</td>\n",
       "    </tr>\n",
       "  </tbody>\n",
       "</table>\n",
       "</div>"
      ],
      "text/plain": [
       "       open      high       low     close\n",
       "0  0.334315  0.348003  0.357798  0.367069\n",
       "1  0.378985  0.375813  0.402868  0.387736\n",
       "2  0.383373  0.381233  0.406531  0.400124\n",
       "3  0.406084  0.420889  0.431107  0.429896\n",
       "4  0.426016  0.426957  0.447226  0.432456"
      ]
     },
     "execution_count": 8,
     "metadata": {},
     "output_type": "execute_result"
    }
   ],
   "source": [
    "train_Data.head()"
   ]
  },
  {
   "cell_type": "markdown",
   "metadata": {},
   "source": [
    "## Visual the data "
   ]
  },
  {
   "cell_type": "code",
   "execution_count": 9,
   "metadata": {
    "collapsed": true
   },
   "outputs": [],
   "source": [
    "def visaulize(df):    \n",
    "    plt.plot(df.open.values, color='red', label='open')\n",
    "    plt.plot(df.close.values, color='green', label='close')\n",
    "    plt.plot(df.low.values, color='blue', label='low')\n",
    "    plt.plot(df.high.values, color='black', label='high')\n",
    "    plt.title('stock price')\n",
    "    plt.xlabel('time [days]')\n",
    "    plt.ylabel('price')\n",
    "    plt.legend(loc='best')\n",
    "    plt.show()"
   ]
  },
  {
   "cell_type": "code",
   "execution_count": 10,
   "metadata": {},
   "outputs": [
    {
     "data": {
      "image/png": "[encoded data removed]",
      "text/plain": [
       "<matplotlib.figure.Figure at 0x1a1368fe48>"
      ]
     },
     "metadata": {},
     "output_type": "display_data"
    }
   ],
   "source": [
    "visaulize(train_Data)"
   ]
  },
  {
   "cell_type": "code",
   "execution_count": 11,
   "metadata": {
    "collapsed": true
   },
   "outputs": [],
   "source": [
    "# Dont care about this function.\n",
    "# It's used in Deep learning Model.\n",
    "def select_action(action_prob):\n",
    "    values, indices = torch.max(action_prob, 1)\n",
    "    indices = indices.data.numpy(1)[0]\n",
    "    if indices ==0: action = -1\n",
    "    elif indices == 1: action = 0\n",
    "    elif indices == 2: action = 1\n",
    "    return action"
   ]
  },
  {
   "cell_type": "code",
   "execution_count": 12,
   "metadata": {},
   "outputs": [
    {
     "data": {
      "text/plain": [
       "<module 'Model.Policy' from '/Users/chenyuhua/python/Stock /Model/Policy.py'>"
      ]
     },
     "execution_count": 12,
     "metadata": {},
     "output_type": "execute_result"
    }
   ],
   "source": [
    "# Dont care about here. It's deep learning\n",
    "import torch \n",
    "from Model import Policy\n",
    "from Stock_Environment import Env\n",
    "import importlib\n",
    "from torch.autograd import Variable\n",
    "\n",
    "importlib.reload(Policy)"
   ]
  },
  {
   "cell_type": "code",
   "execution_count": 13,
   "metadata": {},
   "outputs": [],
   "source": [
    "Policy = Policy.Policy_Model()\n",
    "Env = Env.env()"
   ]
  },
  {
   "cell_type": "code",
   "execution_count": 14,
   "metadata": {},
   "outputs": [],
   "source": [
    "for i in range(1):\n",
    "    four_features = list(train_Data.iloc[i])\n",
    "    four_features = [int(i) for i in four_features]\n",
    "    \n",
    "    four_features_var = Variable(torch.FloatTensor(four_features)) #DL\n",
    "    status, income = Env.Current() # return current status and income\n",
    "    \n",
    "    status = Variable(torch.LongTensor([status])) # DL\n",
    "    income = Variable(torch.FloatTensor([income])) #DL\n",
    "    \n",
    "    data = (four_features_var, status, income) \n",
    "    action = Policy(data)   # put inside your model\n",
    "    action = select_action(action) # don's care\n",
    "    Env.execute_action(action, four_features[0]) # put current action and open_prize in int \n"
   ]
  }
 ],
 "metadata": {
  "kernelspec": {
   "display_name": "Python 3",
   "language": "python",
   "name": "python3"
  },
  "language_info": {
   "codemirror_mode": {
    "name": "ipython",
    "version": 3
   },
   "file_extension": ".py",
   "mimetype": "text/x-python",
   "name": "python",
   "nbconvert_exporter": "python",
   "pygments_lexer": "ipython3",
   "version": "3.6.2"
  }
 },
 "nbformat": 4,
 "nbformat_minor": 2
}
