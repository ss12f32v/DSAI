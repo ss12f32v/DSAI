{
 "cells": [
  {
   "cell_type": "code",
   "execution_count": 1,
   "metadata": {
    "collapsed": true
   },
   "outputs": [],
   "source": [
    "import pandas as pd \n",
    "import numpy as np \n",
    "from sklearn import preprocessing\n",
    "import matplotlib.pyplot as plt\n"
   ]
  },
  {
   "cell_type": "code",
   "execution_count": 2,
   "metadata": {
    "collapsed": true
   },
   "outputs": [],
   "source": [
    "path =\"Dataset/\"\n",
    "train_Data = pd.read_csv(path + \"training_data.csv\", header=None)"
   ]
  },
  {
   "cell_type": "code",
   "execution_count": 3,
   "metadata": {},
   "outputs": [
    {
     "data": {
      "text/plain": [
       "(1511, 4)"
      ]
     },
     "execution_count": 3,
     "metadata": {},
     "output_type": "execute_result"
    }
   ],
   "source": [
    "train_Data.shape\n"
   ]
  },
  {
   "cell_type": "code",
   "execution_count": 4,
   "metadata": {
    "collapsed": true
   },
   "outputs": [],
   "source": [
    "train_Data.columns = ['open','high','low','close']"
   ]
  },
  {
   "cell_type": "code",
   "execution_count": 5,
   "metadata": {},
   "outputs": [
    {
     "data": {
      "text/html": [
       "<div>\n",
       "<style>\n",
       "    .dataframe thead tr:only-child th {\n",
       "        text-align: right;\n",
       "    }\n",
       "\n",
       "    .dataframe thead th {\n",
       "        text-align: left;\n",
       "    }\n",
       "\n",
       "    .dataframe tbody tr th {\n",
       "        vertical-align: top;\n",
       "    }\n",
       "</style>\n",
       "<table border=\"1\" class=\"dataframe\">\n",
       "  <thead>\n",
       "    <tr style=\"text-align: right;\">\n",
       "      <th></th>\n",
       "      <th>open</th>\n",
       "      <th>high</th>\n",
       "      <th>low</th>\n",
       "      <th>close</th>\n",
       "    </tr>\n",
       "  </thead>\n",
       "  <tbody>\n",
       "    <tr>\n",
       "      <th>0</th>\n",
       "      <td>209.894836</td>\n",
       "      <td>216.427353</td>\n",
       "      <td>207.758728</td>\n",
       "      <td>216.208771</td>\n",
       "    </tr>\n",
       "    <tr>\n",
       "      <th>1</th>\n",
       "      <td>220.515762</td>\n",
       "      <td>223.029404</td>\n",
       "      <td>218.454163</td>\n",
       "      <td>221.181427</td>\n",
       "    </tr>\n",
       "    <tr>\n",
       "      <th>2</th>\n",
       "      <td>221.558975</td>\n",
       "      <td>224.316040</td>\n",
       "      <td>219.323517</td>\n",
       "      <td>224.162048</td>\n",
       "    </tr>\n",
       "    <tr>\n",
       "      <th>3</th>\n",
       "      <td>226.958847</td>\n",
       "      <td>233.729813</td>\n",
       "      <td>225.155579</td>\n",
       "      <td>231.325455</td>\n",
       "    </tr>\n",
       "    <tr>\n",
       "      <th>4</th>\n",
       "      <td>231.698029</td>\n",
       "      <td>235.170441</td>\n",
       "      <td>228.980698</td>\n",
       "      <td>231.941452</td>\n",
       "    </tr>\n",
       "  </tbody>\n",
       "</table>\n",
       "</div>"
      ],
      "text/plain": [
       "         open        high         low       close\n",
       "0  209.894836  216.427353  207.758728  216.208771\n",
       "1  220.515762  223.029404  218.454163  221.181427\n",
       "2  221.558975  224.316040  219.323517  224.162048\n",
       "3  226.958847  233.729813  225.155579  231.325455\n",
       "4  231.698029  235.170441  228.980698  231.941452"
      ]
     },
     "execution_count": 5,
     "metadata": {},
     "output_type": "execute_result"
    }
   ],
   "source": [
    "train_Data.head()"
   ]
  },
  {
   "cell_type": "code",
   "execution_count": 6,
   "metadata": {
    "collapsed": true
   },
   "outputs": [],
   "source": [
    "# diff = [0]\n",
    "# prev_close = 216.208771\n",
    "# for index, row in train_Data.iterrows():\n",
    "#     if index ==0:\n",
    "#         continue\n",
    "#     diff.append(row['open']-prev_close)\n",
    "#     prev_close = row['close']\n",
    "    "
   ]
  },
  {
   "cell_type": "code",
   "execution_count": 7,
   "metadata": {},
   "outputs": [],
   "source": [
    "# # Normalize the data -> Maybe useful?\n",
    "# def normalize_data(df):\n",
    "#     min_max_scaler = preprocessing.MinMaxScaler()\n",
    "#     df['open'] = min_max_scaler.fit_transform(df.open.values.reshape(-1,1))\n",
    "#     df['high'] = min_max_scaler.fit_transform(df.high.values.reshape(-1,1))\n",
    "#     df['low'] = min_max_scaler.fit_transform(df.low.values.reshape(-1,1))\n",
    "#     df['close'] = min_max_scaler.fit_transform(df.close.values.reshape(-1,1))\n",
    "#     return df\n",
    "# new_train_Data = normalize_data(train_Data)\n",
    "# new_train_Data.head()"
   ]
  },
  {
   "cell_type": "code",
   "execution_count": 8,
   "metadata": {},
   "outputs": [
    {
     "data": {
      "text/html": [
       "<div>\n",
       "<style>\n",
       "    .dataframe thead tr:only-child th {\n",
       "        text-align: right;\n",
       "    }\n",
       "\n",
       "    .dataframe thead th {\n",
       "        text-align: left;\n",
       "    }\n",
       "\n",
       "    .dataframe tbody tr th {\n",
       "        vertical-align: top;\n",
       "    }\n",
       "</style>\n",
       "<table border=\"1\" class=\"dataframe\">\n",
       "  <thead>\n",
       "    <tr style=\"text-align: right;\">\n",
       "      <th></th>\n",
       "      <th>open</th>\n",
       "      <th>high</th>\n",
       "      <th>low</th>\n",
       "      <th>close</th>\n",
       "    </tr>\n",
       "  </thead>\n",
       "  <tbody>\n",
       "    <tr>\n",
       "      <th>1506</th>\n",
       "      <td>313.958008</td>\n",
       "      <td>315.289337</td>\n",
       "      <td>313.242645</td>\n",
       "      <td>314.524323</td>\n",
       "    </tr>\n",
       "    <tr>\n",
       "      <th>1507</th>\n",
       "      <td>313.982849</td>\n",
       "      <td>320.162659</td>\n",
       "      <td>313.958008</td>\n",
       "      <td>318.056335</td>\n",
       "    </tr>\n",
       "    <tr>\n",
       "      <th>1508</th>\n",
       "      <td>319.298279</td>\n",
       "      <td>320.416016</td>\n",
       "      <td>316.988312</td>\n",
       "      <td>317.783142</td>\n",
       "    </tr>\n",
       "    <tr>\n",
       "      <th>1509</th>\n",
       "      <td>318.672333</td>\n",
       "      <td>319.422455</td>\n",
       "      <td>315.547668</td>\n",
       "      <td>319.124390</td>\n",
       "    </tr>\n",
       "    <tr>\n",
       "      <th>1510</th>\n",
       "      <td>318.935638</td>\n",
       "      <td>321.290314</td>\n",
       "      <td>318.935638</td>\n",
       "      <td>320.863098</td>\n",
       "    </tr>\n",
       "  </tbody>\n",
       "</table>\n",
       "</div>"
      ],
      "text/plain": [
       "            open        high         low       close\n",
       "1506  313.958008  315.289337  313.242645  314.524323\n",
       "1507  313.982849  320.162659  313.958008  318.056335\n",
       "1508  319.298279  320.416016  316.988312  317.783142\n",
       "1509  318.672333  319.422455  315.547668  319.124390\n",
       "1510  318.935638  321.290314  318.935638  320.863098"
      ]
     },
     "execution_count": 8,
     "metadata": {},
     "output_type": "execute_result"
    }
   ],
   "source": [
    "train_Data.tail()"
   ]
  },
  {
   "cell_type": "markdown",
   "metadata": {},
   "source": [
    "## Visual the data "
   ]
  },
  {
   "cell_type": "code",
   "execution_count": 9,
   "metadata": {
    "collapsed": true
   },
   "outputs": [],
   "source": [
    "def visaulize(df):    \n",
    "    plt.plot(df.open.values, color='red', label='open')\n",
    "    plt.plot(df.close.values, color='green', label='close')\n",
    "    plt.plot(df.low.values, color='blue', label='low')\n",
    "    plt.plot(df.high.values, color='black', label='high')\n",
    "    plt.title('stock price')\n",
    "    plt.xlabel('time [days]')\n",
    "    plt.ylabel('price')\n",
    "    plt.legend(loc='best')\n",
    "    plt.show()"
   ]
  },
  {
   "cell_type": "code",
   "execution_count": 10,
   "metadata": {},
   "outputs": [
    {
     "data": {
      "image/png": "[encoded data removed]",
      "text/plain": [
       "<matplotlib.figure.Figure at 0x1a15b8d160>"
      ]
     },
     "metadata": {},
     "output_type": "display_data"
    }
   ],
   "source": [
    "visaulize(train_Data)"
   ]
  },
  {
   "cell_type": "markdown",
   "metadata": {},
   "source": [
    "## Model Module"
   ]
  },
  {
   "cell_type": "code",
   "execution_count": 11,
   "metadata": {},
   "outputs": [],
   "source": [
    "# Dont care about here. It's deep learning\n",
    "import torch \n",
    "from Model import Policy\n",
    "import importlib\n",
    "from torch.autograd import Variable\n"
   ]
  },
  {
   "cell_type": "markdown",
   "metadata": {},
   "source": [
    "## Environment Module"
   ]
  },
  {
   "cell_type": "code",
   "execution_count": 12,
   "metadata": {},
   "outputs": [],
   "source": [
    "from Stock_Environment import Env\n"
   ]
  },
  {
   "cell_type": "code",
   "execution_count": 13,
   "metadata": {},
   "outputs": [],
   "source": [
    "importlib.reload(Policy)\n",
    "importlib.reload(Env)\n",
    "Agent = Policy.Policy()\n",
    "Environment = Env.env()"
   ]
  },
  {
   "cell_type": "markdown",
   "metadata": {},
   "source": [
    "### Hyperparameter"
   ]
  },
  {
   "cell_type": "code",
   "execution_count": 14,
   "metadata": {},
   "outputs": [],
   "source": [
    "Epoch = 5 #It means how many rounds you want to play in this task.\n",
    "learning_rate = 0.001\n",
    "optimizer = torch.optim.Adam(Agent.parameters(), lr=learning_rate)"
   ]
  },
  {
   "cell_type": "code",
   "execution_count": 15,
   "metadata": {},
   "outputs": [
    {
     "data": {
      "text/plain": [
       "1511"
      ]
     },
     "execution_count": 15,
     "metadata": {},
     "output_type": "execute_result"
    }
   ],
   "source": [
    "train_Data.shape[0]"
   ]
  },
  {
   "cell_type": "code",
   "execution_count": 16,
   "metadata": {},
   "outputs": [],
   "source": [
    "from Trainer import PG_trainer\n",
    "# import policy gradient trainer"
   ]
  },
  {
   "cell_type": "code",
   "execution_count": 20,
   "metadata": {},
   "outputs": [],
   "source": [
    "Agent = Policy.Policy()\n",
    "\n",
    "trainer = PG_trainer.Trainer(Agent, \n",
    "                             Environment, \n",
    "                             train_Data, \n",
    "                             optimizer, \n",
    "                             Epoch,\n",
    "                             verbose_round = 2000\n",
    "                                )"
   ]
  },
  {
   "cell_type": "code",
   "execution_count": 21,
   "metadata": {},
   "outputs": [
    {
     "name": "stdout",
     "output_type": "stream",
     "text": [
      "Day:0, Status:0, income:0, Choosen-Action:0, reward:-50, ter : None \n",
      "Day:700, Status:0, income:0, Choosen-Action:0, reward:-50, ter : None \n",
      "Day:1400, Status:0, income:0, Choosen-Action:0, reward:-50, ter : None \n",
      "Day:1509, Status:0, Income:0,  Action:0, reward:-50, ter : None \n",
      "EPOCH Income 0\n",
      "\n",
      "Day:0, Status:0, income:0, Choosen-Action:0, reward:-50, ter : None \n",
      "Day:700, Status:0, income:0, Choosen-Action:0, reward:-50, ter : None \n",
      "Day:1400, Status:0, income:0, Choosen-Action:0, reward:-50, ter : None \n",
      "Day:1509, Status:0, Income:0,  Action:0, reward:-50, ter : None \n",
      "EPOCH Income 0\n",
      "\n",
      "Day:0, Status:0, income:0, Choosen-Action:0, reward:-50, ter : None \n",
      "Day:700, Status:0, income:0, Choosen-Action:0, reward:-50, ter : None \n",
      "Day:1400, Status:0, income:0, Choosen-Action:0, reward:-50, ter : None \n",
      "Day:1509, Status:0, Income:0,  Action:0, reward:-50, ter : None \n",
      "EPOCH Income 0\n",
      "\n",
      "Day:0, Status:0, income:0, Choosen-Action:0, reward:-50, ter : None \n",
      "Day:700, Status:0, income:0, Choosen-Action:0, reward:-50, ter : None \n",
      "Day:1400, Status:0, income:0, Choosen-Action:0, reward:-50, ter : None \n",
      "Day:1509, Status:0, Income:0,  Action:0, reward:-50, ter : None \n",
      "EPOCH Income 0\n",
      "\n",
      "Day:0, Status:0, income:0, Choosen-Action:0, reward:-50, ter : None \n",
      "Day:700, Status:0, income:0, Choosen-Action:0, reward:-50, ter : None \n",
      "Day:1400, Status:0, income:0, Choosen-Action:0, reward:-50, ter : None \n",
      "Day:1509, Status:0, Income:0,  Action:0, reward:-50, ter : None \n",
      "EPOCH Income 0\n",
      "\n"
     ]
    }
   ],
   "source": [
    "trainer.train()"
   ]
  },
  {
   "cell_type": "code",
   "execution_count": 19,
   "metadata": {},
   "outputs": [
    {
     "data": {
      "text/html": [
       "<div>\n",
       "<style>\n",
       "    .dataframe thead tr:only-child th {\n",
       "        text-align: right;\n",
       "    }\n",
       "\n",
       "    .dataframe thead th {\n",
       "        text-align: left;\n",
       "    }\n",
       "\n",
       "    .dataframe tbody tr th {\n",
       "        vertical-align: top;\n",
       "    }\n",
       "</style>\n",
       "<table border=\"1\" class=\"dataframe\">\n",
       "  <thead>\n",
       "    <tr style=\"text-align: right;\">\n",
       "      <th></th>\n",
       "      <th>open</th>\n",
       "      <th>high</th>\n",
       "      <th>low</th>\n",
       "      <th>close</th>\n",
       "    </tr>\n",
       "  </thead>\n",
       "  <tbody>\n",
       "    <tr>\n",
       "      <th>0</th>\n",
       "      <td>209.894836</td>\n",
       "      <td>216.427353</td>\n",
       "      <td>207.758728</td>\n",
       "      <td>216.208771</td>\n",
       "    </tr>\n",
       "    <tr>\n",
       "      <th>1</th>\n",
       "      <td>220.515762</td>\n",
       "      <td>223.029404</td>\n",
       "      <td>218.454163</td>\n",
       "      <td>221.181427</td>\n",
       "    </tr>\n",
       "    <tr>\n",
       "      <th>2</th>\n",
       "      <td>221.558975</td>\n",
       "      <td>224.316040</td>\n",
       "      <td>219.323517</td>\n",
       "      <td>224.162048</td>\n",
       "    </tr>\n",
       "    <tr>\n",
       "      <th>3</th>\n",
       "      <td>226.958847</td>\n",
       "      <td>233.729813</td>\n",
       "      <td>225.155579</td>\n",
       "      <td>231.325455</td>\n",
       "    </tr>\n",
       "    <tr>\n",
       "      <th>4</th>\n",
       "      <td>231.698029</td>\n",
       "      <td>235.170441</td>\n",
       "      <td>228.980698</td>\n",
       "      <td>231.941452</td>\n",
       "    </tr>\n",
       "  </tbody>\n",
       "</table>\n",
       "</div>"
      ],
      "text/plain": [
       "         open        high         low       close\n",
       "0  209.894836  216.427353  207.758728  216.208771\n",
       "1  220.515762  223.029404  218.454163  221.181427\n",
       "2  221.558975  224.316040  219.323517  224.162048\n",
       "3  226.958847  233.729813  225.155579  231.325455\n",
       "4  231.698029  235.170441  228.980698  231.941452"
      ]
     },
     "execution_count": 19,
     "metadata": {},
     "output_type": "execute_result"
    }
   ],
   "source": [
    "train_Data.head()"
   ]
  },
  {
   "cell_type": "code",
   "execution_count": null,
   "metadata": {
    "collapsed": true
   },
   "outputs": [],
   "source": []
  }
 ],
 "metadata": {
  "kernelspec": {
   "display_name": "Python 3",
   "language": "python",
   "name": "python3"
  },
  "language_info": {
   "codemirror_mode": {
    "name": "ipython",
    "version": 3
   },
   "file_extension": ".py",
   "mimetype": "text/x-python",
   "name": "python",
   "nbconvert_exporter": "python",
   "pygments_lexer": "ipython3",
   "version": "3.6.2"
  }
 },
 "nbformat": 4,
 "nbformat_minor": 2
}
